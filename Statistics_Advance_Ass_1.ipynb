{
 "cells": [
  {
   "cell_type": "markdown",
   "id": "43971df2",
   "metadata": {},
   "source": [
    "# question 1"
   ]
  },
  {
   "cell_type": "code",
   "execution_count": 1,
   "id": "6872a1d8",
   "metadata": {},
   "outputs": [],
   "source": [
    "# A Probability Density Function (PDF) is a fundamental concept in probability and statistics. It describes the likelihood of a continuous random variable taking on a specific value within a certain range. In other words, the PDF provides the probability distribution of a continuous random variable.\n",
    "\n",
    "#The PDF is typically denoted as f(x), where \"x\" represents the variable of interest. The properties of a PDF are as follows:\n",
    "\n",
    "#Non-negative: The PDF is always non-negative, meaning that f(x) ≥ 0 for all values of x.\n",
    "\n",
    "#Area under the curve: The total area under the curve of the PDF over its entire range is equal to 1. This ensures that the probability of the random variable taking any value within its range is 1 (or 100%).\n",
    "\n",
    "#Mathematically, the probability that the random variable falls within a certain interval [a, b] is given by the integral of the PDF over that interval:\n",
    "\n",
    "#P(a ≤ X ≤ b) = ∫[a, b] f(x) dx\n",
    "\n",
    "#Here, P(a ≤ X ≤ b) represents the probability that the random variable X falls within the interval [a, b], and ∫[a, b] denotes the integral over that interval."
   ]
  },
  {
   "cell_type": "markdown",
   "id": "1a477b8c",
   "metadata": {},
   "source": [
    "# question 2"
   ]
  },
  {
   "cell_type": "code",
   "execution_count": 2,
   "id": "e9c92116",
   "metadata": {},
   "outputs": [],
   "source": [
    "#There are several types of probability distributions in statistics, each with its own characteristics and applications. Some of the most common probability distributions include:\n",
    "\n",
    "#Uniform Distribution: In a uniform distribution, all outcomes are equally likely over a specified range. For example, rolling a fair six-sided die is an example of a uniform distribution.\n",
    "\n",
    "#Normal Distribution (Gaussian Distribution): The normal distribution is a bell-shaped, symmetric distribution characterized by its mean (average) and standard deviation. Many natural phenomena follow this distribution, such as heights or test scores.\n",
    "\n",
    "#Binomial Distribution: The binomial distribution models the number of successes in a fixed number of independent Bernoulli trials (experiments with two possible outcomes, usually success or failure).\n",
    "\n",
    "#Poisson Distribution: The Poisson distribution models the number of events that occur within a fixed interval of time or space when the events are rare but random. It's often used for count data, such as the number of phone calls at a call center in a given hour.\n",
    "\n",
    "#Exponential Distribution: The exponential distribution models the time between events in a Poisson process, where events occur randomly at a constant average rate. It's commonly used for modeling lifetimes, waiting times, and reliability.\n",
    "\n",
    "#Gamma Distribution: The gamma distribution is a versatile distribution used for modeling waiting times, sums of exponential random variables, and other continuous positive variables. It includes the exponential distribution as a special case.\n",
    "\n",
    "#Weibull Distribution: The Weibull distribution is often used in reliability engineering and life data analysis to model the distribution of lifetimes of products or systems.\n",
    "\n",
    "#Log-Normal Distribution: The log-normal distribution is characterized by its logarithm being normally distributed. It's used for modeling variables that are inherently positive and have skewed distributions, such as stock prices.\n",
    "\n",
    "#Beta Distribution: The beta distribution is commonly used to model random variables that have a limited range, such as proportions or probabilities. It has two shape parameters that can make it symmetrical or skewed.\n",
    "\n",
    "#Cauchy Distribution: The Cauchy distribution has heavy tails and lacks finite moments (mean and variance). It's used in physics and some statistical applications, but it can be challenging to work with due to its heavy tails.\n",
    "\n",
    "#Triangular Distribution: The triangular distribution is often used when there is uncertainty about the true distribution of a variable, and only minimum, maximum, and a most likely value are known.\n",
    "\n",
    "#Geometric Distribution: The geometric distribution models the number of trials needed to achieve the first success in a sequence of independent Bernoulli trials.\n",
    "\n",
    "#These are just some of the most commonly encountered probability distributions in statistics. Depending on the problem at hand, different distributions may be more appropriate to model and analyze data. Choosing the right distribution is essential for making accurate statistical inferences and predictions.\n",
    "\n",
    "\n"
   ]
  },
  {
   "cell_type": "markdown",
   "id": "70a204b5",
   "metadata": {},
   "source": [
    "# question 3"
   ]
  },
  {
   "cell_type": "code",
   "execution_count": 4,
   "id": "f8d3c297",
   "metadata": {},
   "outputs": [],
   "source": [
    "#import scipy.stats as stats\n",
    "\n",
    "#def normal_pdf(x, mean, std_dev):\n",
    "   # \"\"\"\n",
    "   # Calculate the probability density function (PDF) of a normal distribution\n",
    "    #at a given point x with the specified mean and standard deviation.\n",
    "\n",
    "   # Parameters:\n",
    "  #  - x: The point at which to calculate the PDF.\n",
    "  #  - mean: The mean (average) of the normal distribution.\n",
    "  #  - std_dev: The standard deviation of the normal distribution.\n",
    "\n",
    "  #  Returns:\n",
    "  #  - pdf_value: The PDF value at the given point x.\n",
    "  #  \"\"\"\n",
    "   # pdf_value = stats.norm.pdf(x, loc=mean, scale=std_dev)\n",
    "   # return pdf_value\n",
    "\n",
    "# Example usage:\n",
    "#mean = 0  # Mean of the normal distribution\n",
    "#std_dev = 1  # Standard deviation of the normal distribution\n",
    "#x_value = 1.5  # Point at which to calculate the PDF\n",
    "\n",
    "#pdf_at_x = normal_pdf(x_value, mean, std_dev)\n",
    "#print(f\"The PDF at x={x_value} is {pdf_at_x}\")\n"
   ]
  },
  {
   "cell_type": "markdown",
   "id": "4448a374",
   "metadata": {},
   "source": [
    "# question 4"
   ]
  },
  {
   "cell_type": "code",
   "execution_count": 5,
   "id": "3f23b0ec",
   "metadata": {},
   "outputs": [],
   "source": [
    "#The binomial distribution is a discrete probability distribution that models the number of successes in a fixed number of independent Bernoulli trials, where each trial has only two possible outcomes: success (usually denoted as \"1\") or failure (usually denoted as \"0\"). The properties of the binomial distribution include:\n",
    "\n",
    "#1. **Fixed Number of Trials (n):** The binomial distribution is defined for a fixed number of trials, denoted as \"n.\"\n",
    "\n",
    "#2. **Independent Trials:** Each trial is assumed to be independent of the others. The outcome of one trial does not affect the outcomes of subsequent trials.\n",
    "\n",
    "#3. **Two Possible Outcomes:** Each trial has only two possible outcomes: success (S) or failure (F).\n",
    "\n",
    "#4. **Constant Probability of Success (p):** The probability of success, denoted as \"p,\" remains constant for each trial.\n",
    "\n",
    "#5. **Discreteness:** The binomial distribution deals with discrete random variables, specifically the count of successes.\n",
    "\n",
    "#6. **Probability Mass Function:** The probability mass function (PMF) of the binomial distribution is given by the formula:\n",
    "   \n",
    "#   P(X = k) = C(n, k) * p^k * (1 - p)^(n - k)\n",
    "\n",
    "#   Where:\n",
    "#   - P(X = k) is the probability of exactly k successes.\n",
    " #  - n is the total number of trials.\n",
    " #  - k is the number of successes.\n",
    "#   - p is the probability of success on each trial.\n",
    "#   - C(n, k) is the binomial coefficient, which calculates the number of ways to choose k successes out of n trials.\n",
    "\n",
    "#Two common examples of events where the binomial distribution can be applied are:\n",
    "\n",
    "#1. **Coin Flips:** When flipping a fair coin (where the probability of getting heads, for example, is 0.5) multiple times, you can model the number of heads obtained in a fixed number of flips using a binomial distribution. For example, you can calculate the probability of getting exactly 3 heads in 5 coin flips.\n",
    "\n",
    "#2. **Manufacturing Defects:** In quality control, you might be interested in the number of defective items in a sample of a fixed size from a production batch. If each item has a constant probability of being defective, you can use a binomial distribution to model the number of defective items in the sample.\n",
    "\n",
    "#The binomial distribution is a fundamental distribution in probability and statistics and is widely applicable in various fields, including biology, manufacturing, and finance, whenever you are dealing with situations involving binary outcomes and a fixed number of trials."
   ]
  },
  {
   "cell_type": "markdown",
   "id": "93977c45",
   "metadata": {},
   "source": [
    "# question 5"
   ]
  },
  {
   "cell_type": "code",
   "execution_count": 6,
   "id": "6db40a58",
   "metadata": {},
   "outputs": [],
   "source": [
    "#import numpy as np\n",
    "#import matplotlib.pyplot as plt\n",
    "\n",
    "# Parameters\n",
    "#sample_size = 1000\n",
    "#probability_of_success = 0.4\n",
    "\n",
    "# Generate random sample from binomial distribution\n",
    "#random_sample = np.random.binomial(1, probability_of_success, sample_size)\n",
    "\n",
    "# Create a histogram\n",
    "#plt.hist(random_sample, bins=[-0.5, 0.5, 1.5], align='mid', rwidth=0.8, alpha=0.7)\n",
    "#plt.xticks([0, 1], ['Failure', 'Success'])\n",
    "#plt.xlabel('Outcome')\n",
    "#plt.ylabel('Frequency')\n",
    "#plt.title('Binomial Distribution (n=1, p=0.4) - Random Sample')\n",
    "\n",
    "# Show the plot\n",
    "#plt.show()\n"
   ]
  },
  {
   "cell_type": "markdown",
   "id": "e8062e8a",
   "metadata": {},
   "source": [
    "# question 6"
   ]
  },
  {
   "cell_type": "code",
   "execution_count": 7,
   "id": "f9b2125d",
   "metadata": {},
   "outputs": [],
   "source": [
    "#import scipy.stats as stats\n",
    "\n",
    "#def poisson_cdf(k, mean):\n",
    "    #\n",
    "    #Calculate the cumulative distribution function (CDF) of a Poisson distribution\n",
    "    #at a given point k with the specified mean.\n",
    "\n",
    "    #Parameters:\n",
    "    #- k: The point at which to calculate the CDF.\n",
    "    #- mean: The mean (average) of the Poisson distribution.\n",
    "\n",
    "   # Returns:\n",
    "    #- cdf_value: The CDF value at the given point k.\n",
    "    \n",
    "    #cdf_value = stats.poisson.cdf(k, mu=mean)\n",
    "    #return cdf_value\n",
    "\n",
    "# Example usage:\n",
    "#mean = 3.5  # Mean of the Poisson distribution\n",
    "#k_value = 2  # Point at which to calculate the CDF\n",
    "\n",
    "#cdf_at_k = poisson_cdf(k_value, mean)\n",
    "#print(f\"The CDF at k={k_value} is {cdf_at_k}\")\n"
   ]
  },
  {
   "cell_type": "markdown",
   "id": "4b3e2f06",
   "metadata": {},
   "source": [
    "# question 7"
   ]
  },
  {
   "cell_type": "code",
   "execution_count": 8,
   "id": "d7782aad",
   "metadata": {},
   "outputs": [],
   "source": [
    "#The Binomial distribution and the Poisson distribution are both probability distributions used to model the number of events or successes in a fixed number of trials or a fixed interval. However, they differ in several key aspects:\n",
    "\n",
    "#Number of Trials (n):\n",
    "\n",
    "#Binomial Distribution: It is used when you have a fixed number of trials (n) and you are interested in the number of successes (k) in those trials. Each trial has only two possible outcomes: success or failure.\n",
    "#Poisson Distribution: It is used when you are interested in the number of events (e.g., occurrences, arrivals, or counts) in a fixed interval of time or space, and these events occur randomly. The number of trials is not fixed, and events can occur any number of times.\n",
    "#Nature of Outcomes:\n",
    "\n",
    "#Binomial Distribution: In a binomial distribution, each trial is binary, meaning there are only two possible outcomes for each trial (usually labeled as success and failure).\n",
    "#Poisson Distribution: In a Poisson distribution, the outcomes are counts of events, and each event is considered a discrete, non-negative integer.\n",
    "#Parameters:\n",
    "\n",
    "#Binomial Distribution: It is characterized by two parameters: the number of trials (n) and the probability of success on each trial (p).\n",
    "#Poisson Distribution: It is characterized by a single parameter, the average rate (λ) at which events occur in the fixed interval.\n",
    "#Applicability:\n",
    "\n",
    "#Binomial Distribution: It is typically used when you have a fixed number of independent trials and you want to calculate the probability of a specific number of successes occurring in those trials. Common examples include coin flips, pass-fail experiments, and quality control scenarios.\n",
    "#Poisson Distribution: It is used when you want to model the number of rare events occurring in a fixed interval of time or space. Examples include the number of phone calls received at a call center in a given hour, the number of accidents at an intersection in a day, or the number of emails received in an hour.\n",
    "#Assumptions:\n",
    "\n",
    "#Binomial Distribution: Assumes that the trials are independent, the probability of success (p) is constant across all trials, and the number of trials (n) is fixed.\n",
    "#Poisson Distribution: Assumes that events occur randomly and independently within the fixed interval, and the average rate (λ) is constant.\n"
   ]
  },
  {
   "cell_type": "markdown",
   "id": "8245ad63",
   "metadata": {},
   "source": [
    "# question 8"
   ]
  },
  {
   "cell_type": "code",
   "execution_count": 9,
   "id": "17d67156",
   "metadata": {},
   "outputs": [],
   "source": [
    "#import numpy as np\n",
    "\n",
    "# Parameters\n",
    "#sample_size = 1000\n",
    "#mean = 5\n",
    "\n",
    "# Generate random sample from Poisson distribution\n",
    "#random_sample = np.random.poisson(mean, size=sample_size)\n",
    "\n",
    "# Calculate sample mean and variance\n",
    "#sample_mean = np.mean(random_sample)\n",
    "#sample_variance = np.var(random_sample)\n",
    "\n",
    "# Print the results\n",
    "#print(f\"Sample Mean: {sample_mean}\")\n",
    "#print(f\"Sample Variance: {sample_variance}\")\n"
   ]
  },
  {
   "cell_type": "markdown",
   "id": "141a17a8",
   "metadata": {},
   "source": [
    "# question 9"
   ]
  },
  {
   "cell_type": "code",
   "execution_count": 10,
   "id": "a5ebae63",
   "metadata": {},
   "outputs": [],
   "source": [
    "#The relationship between mean (expected value) and variance in the Binomial distribution and the Poisson distribution is as follows:\n",
    "\n",
    "#Binomial Distribution:\n",
    "\n",
    "#In a Binomial distribution with parameters n (the number of trials) and p (the probability of success on each trial), the mean (μ) is given by μ = np, and the variance (σ^2) is given by σ^2 = np(1 - p).\n",
    "#The variance in a Binomial distribution depends on both the number of trials (n) and the probability of success (p). It increases as the number of trials or the probability of success varies from 0.5 (maximum spread when p = 0.5).\n",
    "#Poisson Distribution:\n",
    "\n",
    "#In a Poisson distribution with parameter λ (average rate of events in a fixed interval), both the mean (μ) and the variance (σ^2) are equal to λ.\n",
    "#The Poisson distribution has a special property where its mean and variance are equal, which is λ. This property is often referred to as equidispersion.\n"
   ]
  },
  {
   "cell_type": "markdown",
   "id": "fa65eafa",
   "metadata": {},
   "source": [
    "# question 10"
   ]
  },
  {
   "cell_type": "code",
   "execution_count": null,
   "id": "267adb9a",
   "metadata": {},
   "outputs": [],
   "source": [
    "#In a normal distribution (also known as a Gaussian distribution), the least frequent data points appear in the tails of the distribution, farthest from the mean. \n",
    "\n",
    "#A normal distribution is a symmetric bell-shaped curve, and the mean (average) is located at the center of the curve. The probability density decreases as you move away from the mean in either direction. Therefore, the data points in the tails, which are the extreme values, occur less frequently.\n",
    "\n",
    "#To be more specific:\n",
    "#- The data points that are farther to the left of the mean (in the left tail) represent values that are significantly below the mean and are less frequent in the distribution.\n",
    "#- The data points that are farther to the right of the mean (in the right tail) represent values that are significantly above the mean and are also less frequent.\n",
    "\n",
    "#In a standard normal distribution (with a mean of 0 and a standard deviation of 1), about 68% of the data falls within one standard deviation of the mean, about 95% falls within two standard deviations, and about 99.7% falls within three standard deviations. Therefore, the data points beyond three standard deviations from the mean are relatively rare and represent the least frequent data in a normal distribution."
   ]
  }
 ],
 "metadata": {
  "kernelspec": {
   "display_name": "Python 3 (ipykernel)",
   "language": "python",
   "name": "python3"
  },
  "language_info": {
   "codemirror_mode": {
    "name": "ipython",
    "version": 3
   },
   "file_extension": ".py",
   "mimetype": "text/x-python",
   "name": "python",
   "nbconvert_exporter": "python",
   "pygments_lexer": "ipython3",
   "version": "3.11.5"
  }
 },
 "nbformat": 4,
 "nbformat_minor": 5
}
